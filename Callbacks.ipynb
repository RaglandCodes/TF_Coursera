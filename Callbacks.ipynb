{
  "nbformat": 4,
  "nbformat_minor": 0,
  "metadata": {
    "colab": {
      "name": "Callbacks.ipynb",
      "version": "0.3.2",
      "provenance": [],
      "include_colab_link": true
    },
    "kernelspec": {
      "name": "python3",
      "display_name": "Python 3"
    },
    "accelerator": "GPU"
  },
  "cells": [
    {
      "cell_type": "markdown",
      "metadata": {
        "id": "view-in-github",
        "colab_type": "text"
      },
      "source": [
        "<a href=\"https://colab.research.google.com/github/RaglandCodes/TF_Coursera/blob/master/Callbacks.ipynb\" target=\"_parent\"><img src=\"https://colab.research.google.com/assets/colab-badge.svg\" alt=\"Open In Colab\"/></a>"
      ]
    },
    {
      "metadata": {
        "id": "IOkivZcTmSKK",
        "colab_type": "text"
      },
      "cell_type": "markdown",
      "source": [
        "This first code cell has things already implemented [previously](https://github.com/RaglandCodes/TF_Coursera/blob/master/Classifying_images_in_fashion_MNIST.ipynb)."
      ]
    },
    {
      "metadata": {
        "id": "I5wWLF0ml-D2",
        "colab_type": "code",
        "colab": {}
      },
      "cell_type": "code",
      "source": [
        "import tensorflow as tf\n",
        "mnist = tf.keras.datasets.fashion_mnist\n",
        "tfkl = tf.keras.layers\n",
        "\n",
        "\n",
        "(x_train, y_train),(x_test, y_test) = mnist.load_data() #loading dataset\n",
        "x_train, x_test = x_train / 255.0, x_test / 255.0   #normalizing\n",
        "\n",
        "model = tf.keras.models.Sequential([tfkl.Flatten(input_shape =(28, 28)),\n",
        "                            tfkl.Dense(512, activation='relu'),\n",
        "                            tfkl.Dense(10, activation='softmax')])\n",
        "model.compile(optimizer='adam', loss='sparse_categorical_crossentropy', metrics=['accuracy'])\n"
      ],
      "execution_count": 0,
      "outputs": []
    },
    {
      "metadata": {
        "id": "jaTL3zDeoexs",
        "colab_type": "code",
        "colab": {
          "base_uri": "https://localhost:8080/",
          "height": 277
        },
        "outputId": "788659eb-d49f-4bc6-a86e-14ceb8b52b20"
      },
      "cell_type": "code",
      "source": [
        "class myCallBack(tf.keras.callbacks.Callback):\n",
        "  def on_epoch_end(self, epoch, logs={}):                     # We use on_epoch_end because accuracy could go down during an epoch\n",
        "    if(logs.get('acc') > 0.9):\n",
        "      print(\"\\nReached 90% accuracy. Training stopped\")\n",
        "      self.model.stop_training = True\n",
        "      \n",
        "callbacks = myCallBack()\n",
        "model.fit(x_train, y_train, epochs = 10, callbacks=[callbacks])"
      ],
      "execution_count": 8,
      "outputs": [
        {
          "output_type": "stream",
          "text": [
            "Epoch 1/10\n",
            "60000/60000 [==============================] - 8s 137us/sample - loss: 0.4768 - acc: 0.8303\n",
            "Epoch 2/10\n",
            "60000/60000 [==============================] - 8s 133us/sample - loss: 0.3584 - acc: 0.8696\n",
            "Epoch 3/10\n",
            "60000/60000 [==============================] - 8s 131us/sample - loss: 0.3235 - acc: 0.8814\n",
            "Epoch 4/10\n",
            "60000/60000 [==============================] - 8s 132us/sample - loss: 0.2999 - acc: 0.8895\n",
            "Epoch 5/10\n",
            "60000/60000 [==============================] - 8s 131us/sample - loss: 0.2806 - acc: 0.8946\n",
            "Epoch 6/10\n",
            "59648/60000 [============================>.] - ETA: 0s - loss: 0.2658 - acc: 0.9016\n",
            "Reached 90% accuracy. Training stopped\n",
            "60000/60000 [==============================] - 8s 131us/sample - loss: 0.2659 - acc: 0.9015\n"
          ],
          "name": "stdout"
        },
        {
          "output_type": "execute_result",
          "data": {
            "text/plain": [
              "<tensorflow.python.keras.callbacks.History at 0x7f30b9cf97f0>"
            ]
          },
          "metadata": {
            "tags": []
          },
          "execution_count": 8
        }
      ]
    }
  ]
}
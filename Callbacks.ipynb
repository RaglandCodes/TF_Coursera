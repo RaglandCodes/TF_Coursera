{
  "nbformat": 4,
  "nbformat_minor": 0,
  "metadata": {
    "colab": {
      "name": "Callbacks.ipynb",
      "version": "0.3.2",
      "provenance": [],
      "include_colab_link": true
    },
    "kernelspec": {
      "name": "python3",
      "display_name": "Python 3"
    },
    "accelerator": "GPU"
  },
  "cells": [
    {
      "cell_type": "markdown",
      "metadata": {
        "id": "view-in-github",
        "colab_type": "text"
      },
      "source": [
        "<a href=\"https://colab.research.google.com/github/RaglandCodes/TF_Coursera/blob/master/Callbacks.ipynb\" target=\"_parent\"><img src=\"https://colab.research.google.com/assets/colab-badge.svg\" alt=\"Open In Colab\"/></a>"
      ]
    },
    {
      "metadata": {
        "id": "IOkivZcTmSKK",
        "colab_type": "text"
      },
      "cell_type": "markdown",
      "source": [
        "This first code cell has things already implemented [previously](https://github.com/RaglandCodes/TF_Coursera/blob/master/Classifying_images_in_fashion_MNIST.ipynb)."
      ]
    },
    {
      "metadata": {
        "id": "I5wWLF0ml-D2",
        "colab_type": "code",
        "colab": {
          "base_uri": "https://localhost:8080/",
          "height": 228
        },
        "outputId": "5faa1acb-33e5-4222-9ac0-01eb0306d50f"
      },
      "cell_type": "code",
      "source": [
        "import tensorflow as tf\n",
        "mnist = tf.keras.datasets.fashion_mnist\n",
        "tfkl = tf.keras.layers\n",
        "\n",
        "\n",
        "(x_train, y_train),(x_test, y_test) = mnist.load_data() #loading dataset\n",
        "x_train, x_test = x_train / 255.0, x_test / 255.0   #normalizing\n",
        "\n",
        "model = tf.keras.models.Sequential([tfkl.Flatten(input_shape =(28, 28)),\n",
        "                            tfkl.Dense(512, activation='relu'),\n",
        "                            tfkl.Dense(10, activation='softmax')])\n",
        "model.compile(optimizer='adam', loss='sparse_categorical_crossentropy', metrics=['accuracy'])\n"
      ],
      "execution_count": 3,
      "outputs": [
        {
          "output_type": "stream",
          "text": [
            "Downloading data from https://storage.googleapis.com/tensorflow/tf-keras-datasets/train-labels-idx1-ubyte.gz\n",
            "32768/29515 [=================================] - 0s 0us/step\n",
            "Downloading data from https://storage.googleapis.com/tensorflow/tf-keras-datasets/train-images-idx3-ubyte.gz\n",
            "26427392/26421880 [==============================] - 0s 0us/step\n",
            "Downloading data from https://storage.googleapis.com/tensorflow/tf-keras-datasets/t10k-labels-idx1-ubyte.gz\n",
            "8192/5148 [===============================================] - 0s 0us/step\n",
            "Downloading data from https://storage.googleapis.com/tensorflow/tf-keras-datasets/t10k-images-idx3-ubyte.gz\n",
            "4423680/4422102 [==============================] - 0s 0us/step\n",
            "WARNING:tensorflow:From /usr/local/lib/python3.6/dist-packages/tensorflow/python/ops/resource_variable_ops.py:435: colocate_with (from tensorflow.python.framework.ops) is deprecated and will be removed in a future version.\n",
            "Instructions for updating:\n",
            "Colocations handled automatically by placer.\n"
          ],
          "name": "stdout"
        }
      ]
    },
    {
      "metadata": {
        "id": "jaTL3zDeoexs",
        "colab_type": "code",
        "colab": {
          "base_uri": "https://localhost:8080/",
          "height": 243
        },
        "outputId": "36b9d6c9-2e94-4b34-fd43-a0c5b29a629b"
      },
      "cell_type": "code",
      "source": [
        "class myCallBack(tf.keras.callbacks.Callback):\n",
        "  def on_epoch_end(self, epoch, logs={}):                     # We use on_epoch_end because accuracy could go down during an epoch\n",
        "    if(logs.get('acc') > 0.9):\n",
        "      print(\"\\nReached 90% accuracy. Training stopped\")\n",
        "      self.model.stop_training = True\n",
        "      \n",
        "callbacks = myCallBack()\n",
        "model.fit(x_train, y_train, epochs = 10, callbacks=[callbacks])"
      ],
      "execution_count": 6,
      "outputs": [
        {
          "output_type": "stream",
          "text": [
            "Epoch 1/10\n",
            "60000/60000 [==============================] - 8s 134us/sample - loss: 0.3562 - acc: 0.8691\n",
            "Epoch 2/10\n",
            "60000/60000 [==============================] - 8s 132us/sample - loss: 0.3217 - acc: 0.8817\n",
            "Epoch 3/10\n",
            "60000/60000 [==============================] - 8s 132us/sample - loss: 0.2991 - acc: 0.8893\n",
            "Epoch 4/10\n",
            "60000/60000 [==============================] - 8s 133us/sample - loss: 0.2805 - acc: 0.8950\n",
            "Epoch 5/10\n",
            "59616/60000 [============================>.] - ETA: 0s - loss: 0.2664 - acc: 0.9005\n",
            "Reached 60% accuracy. Training stopped\n",
            "60000/60000 [==============================] - 8s 132us/sample - loss: 0.2661 - acc: 0.9006\n"
          ],
          "name": "stdout"
        },
        {
          "output_type": "execute_result",
          "data": {
            "text/plain": [
              "<tensorflow.python.keras.callbacks.History at 0x7f30b9f2d4e0>"
            ]
          },
          "metadata": {
            "tags": []
          },
          "execution_count": 6
        }
      ]
    }
  ]
}
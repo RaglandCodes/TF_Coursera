{
  "nbformat": 4,
  "nbformat_minor": 0,
  "metadata": {
    "colab": {
      "name": "Fashion MNIST CNN.ipynb",
      "version": "0.3.2",
      "provenance": [],
      "include_colab_link": true
    },
    "kernelspec": {
      "name": "python3",
      "display_name": "Python 3"
    },
    "accelerator": "GPU"
  },
  "cells": [
    {
      "cell_type": "markdown",
      "metadata": {
        "id": "view-in-github",
        "colab_type": "text"
      },
      "source": [
        "<a href=\"https://colab.research.google.com/github/RaglandCodes/TF_Coursera/blob/master/Fashion_MNIST_CNN.ipynb\" target=\"_parent\"><img src=\"https://colab.research.google.com/assets/colab-badge.svg\" alt=\"Open In Colab\"/></a>"
      ]
    },
    {
      "metadata": {
        "id": "Y9oo3_jaljSz",
        "colab_type": "code",
        "colab": {}
      },
      "cell_type": "code",
      "source": [
        "import tensorflow as tf\n",
        "tfkl = tf.keras.layers\n",
        "\n",
        "mnist = tf.keras.datasets.fashion_mnist\n",
        "(training_images, training_labels), (test_images, test_labels) = mnist.load_data()"
      ],
      "execution_count": 0,
      "outputs": []
    },
    {
      "metadata": {
        "id": "qw14bfwGpaw4",
        "colab_type": "code",
        "colab": {}
      },
      "cell_type": "code",
      "source": [
        "training_images=training_images.reshape(60000, 28, 28, 1)\n",
        "test_images = test_images.reshape(10000, 28, 28, 1)\n",
        "\n",
        "training_images=training_images / 255.0\n",
        "test_images=test_images/255.0"
      ],
      "execution_count": 0,
      "outputs": []
    },
    {
      "metadata": {
        "id": "dPat0k_lphSK",
        "colab_type": "code",
        "colab": {
          "base_uri": "https://localhost:8080/",
          "height": 208
        },
        "outputId": "b2185e88-8e80-4cbf-fec3-bbe77bad7b5a"
      },
      "cell_type": "code",
      "source": [
        "model = tf.keras.models.Sequential([tfkl.Conv2D(64, (3, 3), activation='relu', input_shape=(28, 28, 1)),\n",
        "                                   tfkl.MaxPooling2D(2, 2),\n",
        "                                   tfkl.Conv2D(64, (3, 3), activation='relu', input_shape=(28, 28, 1)),\n",
        "                                   tfkl.MaxPooling2D(2, 2),\n",
        "                                   tfkl.Flatten(),\n",
        "                                   tfkl.Dense(128, activation='relu'),\n",
        "                                   tfkl.Dense(128, activation='softmax'),\n",
        "                                   ])\n",
        "\n",
        "model.compile(optimizer='adam', loss='sparse_categorical_crossentropy', metrics=['accuracy'])\n",
        "\n",
        "model.fit(training_images, training_labels, epochs=5)\n",
        "test_loss = model.evaluate(test_images, test_labels)\n"
      ],
      "execution_count": 13,
      "outputs": [
        {
          "output_type": "stream",
          "text": [
            "Epoch 1/5\n",
            "60000/60000 [==============================] - 17s 279us/sample - loss: 0.4908 - acc: 0.8270\n",
            "Epoch 2/5\n",
            "60000/60000 [==============================] - 14s 236us/sample - loss: 0.3155 - acc: 0.8860\n",
            "Epoch 3/5\n",
            "60000/60000 [==============================] - 14s 233us/sample - loss: 0.2654 - acc: 0.9036\n",
            "Epoch 4/5\n",
            "60000/60000 [==============================] - 14s 232us/sample - loss: 0.2291 - acc: 0.9154\n",
            "Epoch 5/5\n",
            "60000/60000 [==============================] - 14s 229us/sample - loss: 0.2028 - acc: 0.9242\n",
            "10000/10000 [==============================] - 1s 106us/sample - loss: 0.2589 - acc: 0.9063\n"
          ],
          "name": "stdout"
        }
      ]
    }
  ]
}